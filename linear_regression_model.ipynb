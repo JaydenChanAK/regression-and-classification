{
 "cells": [
  {
   "cell_type": "markdown",
   "metadata": {},
   "source": [
    "# Project Overview\n",
    "Title: Linear Regression Model: Housing Prices\n",
    "\n",
    "Author: Jayden Chan\n",
    "\n",
    "Description: This notebook will seek to implement a linear regression model on a dataset of housing prices. The dataset is comprised of several features including: number of bedrooms, number of bathrooms, numbers of floors, etc. The goal of this model will be to predict the price of a house when given certain features.\n",
    "\n",
    "Credits: The dataset used in this notebook has been sourced from [Kaggle](https://www.kaggle.com/datasets/sukhmandeepsinghbrar/housing-price-dataset). Some code has been sourced from [Coursera](https://www.coursera.org/learn/machine-learning) and edited to fit project requirements.\n",
    "\n",
    "# Outline\n",
    "- [ 1 - Packages ](#packages)\n",
    "- [ 2 - Data Preparation ](#data_preparation)\n",
    "    - [ 2.1 - Data Loading ](#data_loading)\n",
    "    - [ 2.2 - Data Analysis ](#data_analysis)\n",
    "    - [ 2.3 - Feature Normalization ](#feature_normalization)\n",
    "    - [ 2.4 - Data Visualization ](#data_visualization)\n",
    "    - [ 2.5 - Feature Mapping ](#feature_mapping)\n",
    "- [ 3 - Linear Regression ](#linear_regression)\n",
    "    - [ 3.1 - Cost Function ](#cost_function)\n",
    "    - [ 3.2 - Gradient Function ](#gradient_function)\n",
    "    - [ 3.3 - Gradient Descent ](#gradient_descent)\n",
    "    - [ 3.4 - Batch Gradient Descent ](#batch_gradient_descent)\n",
    "    - [ 3.5 - Prediction Accuracy ](#prediction_accuracy)"
   ]
  },
  {
   "cell_type": "markdown",
   "metadata": {},
   "source": [
    "<a id='packages'></a>\n",
    "## 1 - Packages\n",
    "- [numpy](www.numpy.org)\n",
    "- [matplotlib](http://matplotlib.org)\n",
    "-  ``utility.py`` contains useful helper functions for the implementation of this notebook."
   ]
  },
  {
   "cell_type": "code",
   "execution_count": 17,
   "metadata": {},
   "outputs": [],
   "source": [
    "import numpy as np\n",
    "import matplotlib.pyplot as plt\n",
    "from utility import *\n",
    "import copy\n",
    "import math\n",
    "\n",
    "%matplotlib inline"
   ]
  },
  {
   "cell_type": "markdown",
   "metadata": {},
   "source": [
    "<a id='data_preparation'></a>\n",
    "## 2 - Data Preparation"
   ]
  },
  {
   "cell_type": "markdown",
   "metadata": {},
   "source": [
    "<a id='data_loading'></a>\n",
    "### 2.1 - Data Loading\n",
    "\n",
    "The `load_data()` function will load the data in the .csv file into 3 arrays.\n",
    "- `categories` contains the names of the features in the dataset.\n",
    "- `x_data` contains the features in a 2D numpy array.\n",
    "- `y_data` contains the targets in a 1D numpy array.\n",
    "\n",
    "This dataset contains `id` and `date` features that we will not be using. So instead, we will be using a modified function `load_data_housingPrices()`."
   ]
  },
  {
   "cell_type": "code",
   "execution_count": 18,
   "metadata": {},
   "outputs": [],
   "source": [
    "categories, x_data, y_data = load_data_housingPrices(\"Housing.csv\", 2)"
   ]
  },
  {
   "cell_type": "markdown",
   "metadata": {},
   "source": [
    "<a id='data_analysis'></a>\n",
    "### 2.2 - Data Analysis"
   ]
  },
  {
   "cell_type": "code",
   "execution_count": 19,
   "metadata": {},
   "outputs": [
    {
     "name": "stdout",
     "output_type": "stream",
     "text": [
      "The categories are:\n",
      " ['bedrooms' 'bathrooms' 'sqft_living' 'sqft_lot' 'floors' 'waterfront'\n",
      " 'view' 'condition' 'grade' 'sqft_above' 'sqft_basement' 'yr_built'\n",
      " 'yr_renovated' 'zipcode' 'lat' 'long' 'sqft_living15']\n"
     ]
    }
   ],
   "source": [
    "# View categories\n",
    "print(\"The categories are:\\n\", categories[:])"
   ]
  },
  {
   "cell_type": "code",
   "execution_count": 20,
   "metadata": {},
   "outputs": [
    {
     "name": "stdout",
     "output_type": "stream",
     "text": [
      "First five elements in x_date are:\n",
      " [[ 2.00000e+00  1.00000e+00  1.18000e+03  5.65000e+03  1.00000e+00\n",
      "   0.00000e+00  0.00000e+00  3.00000e+00  7.00000e+00  1.18000e+03\n",
      "   0.00000e+00  1.95500e+03  0.00000e+00  9.81780e+04  4.75112e+01\n",
      "  -1.22257e+02  1.34000e+03]\n",
      " [ 3.00000e+00  2.25000e+00  2.57000e+03  7.24200e+03  2.00000e+00\n",
      "   0.00000e+00  0.00000e+00  3.00000e+00  7.00000e+00  2.17000e+03\n",
      "   4.00000e+02  1.95100e+03  1.99100e+03  9.81250e+04  4.77210e+01\n",
      "  -1.22319e+02  1.69000e+03]\n",
      " [ 2.00000e+00  1.00000e+00  7.70000e+02  1.00000e+04  1.00000e+00\n",
      "   0.00000e+00  0.00000e+00  3.00000e+00  6.00000e+00  7.70000e+02\n",
      "   0.00000e+00  1.93300e+03  0.00000e+00  9.80280e+04  4.77379e+01\n",
      "  -1.22233e+02  2.72000e+03]\n",
      " [ 4.00000e+00  3.00000e+00  1.96000e+03  5.00000e+03  1.00000e+00\n",
      "   0.00000e+00  0.00000e+00  5.00000e+00  7.00000e+00  1.05000e+03\n",
      "   9.10000e+02  1.96500e+03  0.00000e+00  9.81360e+04  4.75208e+01\n",
      "  -1.22393e+02  1.36000e+03]\n",
      " [ 3.00000e+00  2.00000e+00  1.68000e+03  8.08000e+03  1.00000e+00\n",
      "   0.00000e+00  0.00000e+00  3.00000e+00  8.00000e+00  1.68000e+03\n",
      "   0.00000e+00  1.98700e+03  0.00000e+00  9.80740e+04  4.76168e+01\n",
      "  -1.22045e+02  1.80000e+03]]\n",
      "Type of x_date <class 'numpy.ndarray'>\n"
     ]
    }
   ],
   "source": [
    "# View features\n",
    "print(\"First five elements in x_date are:\\n\", x_data[:5])\n",
    "print(\"Type of x_date\", type(x_data))"
   ]
  },
  {
   "cell_type": "code",
   "execution_count": 21,
   "metadata": {},
   "outputs": [
    {
     "name": "stdout",
     "output_type": "stream",
     "text": [
      "First five elements in y_data are:\n",
      " [231300. 538000. 180000. 604000. 510000.]\n",
      "Type of y_data <class 'numpy.ndarray'>\n"
     ]
    }
   ],
   "source": [
    "# View targets\n",
    "print(\"First five elements in y_data are:\\n\", y_data[:5])\n",
    "print(\"Type of y_data\", type(y_data))"
   ]
  },
  {
   "cell_type": "code",
   "execution_count": 22,
   "metadata": {},
   "outputs": [
    {
     "name": "stdout",
     "output_type": "stream",
     "text": [
      "The shape of x_data is: (21613, 17)\n",
      "The shape of y_data is: (21613,)\n",
      "We have m = 21613 training examples\n"
     ]
    }
   ],
   "source": [
    "# View sizes\n",
    "print ('The shape of x_data is: ' + str(x_data.shape))\n",
    "print ('The shape of y_data is: ' + str(y_data.shape))\n",
    "print ('We have m = %d training examples' % (len(y_data)))"
   ]
  },
  {
   "cell_type": "markdown",
   "metadata": {},
   "source": [
    "<a id='feature_normalization'></a>\n",
    "### 2.3 - Feature Normalization\n",
    "\n",
    "Because some of the features and targets have large differences in scale, we will be performing feature scaling to modify the data."
   ]
  },
  {
   "cell_type": "code",
   "execution_count": 23,
   "metadata": {},
   "outputs": [],
   "source": [
    "x_data_scaled = feature_scaling(x_data)\n",
    "y_data_scaled = feature_scaling(y_data)"
   ]
  },
  {
   "cell_type": "code",
   "execution_count": 24,
   "metadata": {},
   "outputs": [
    {
     "name": "stdout",
     "output_type": "stream",
     "text": [
      "First five elements in x_date_scaled are:\n",
      " [[0.06060606 0.125      0.06716981 0.00310751 0.         0.\n",
      "  0.         0.5        0.5        0.09758772 0.         0.47826087\n",
      "  0.         0.89393939 0.57149751 0.21760797 0.16193426]\n",
      " [0.09090909 0.28125    0.17207547 0.00407187 0.4        0.\n",
      "  0.         0.5        0.5        0.20614035 0.08298755 0.44347826\n",
      "  0.98808933 0.62626263 0.90895931 0.16611296 0.22216486]\n",
      " [0.06060606 0.125      0.03622642 0.00574253 0.         0.\n",
      "  0.         0.5        0.41666667 0.05263158 0.         0.28695652\n",
      "  0.         0.13636364 0.93614283 0.23754153 0.3994149 ]\n",
      " [0.12121212 0.375      0.12603774 0.00271377 0.         0.\n",
      "  0.         1.         0.5        0.08333333 0.18879668 0.56521739\n",
      "  0.         0.68181818 0.58693904 0.10465116 0.16537601]\n",
      " [0.09090909 0.25       0.10490566 0.00457949 0.         0.\n",
      "  0.         0.5        0.58333333 0.15241228 0.         0.75652174\n",
      "  0.         0.36868687 0.74135435 0.39368771 0.24109448]]\n",
      "Type of x_date_scaled <class 'numpy.ndarray'>\n"
     ]
    }
   ],
   "source": [
    "# View scaled features\n",
    "print(\"First five elements in x_date_scaled are:\\n\", x_data_scaled[:5])\n",
    "print(\"Type of x_date_scaled\", type(x_data_scaled))"
   ]
  },
  {
   "cell_type": "code",
   "execution_count": 25,
   "metadata": {},
   "outputs": [
    {
     "name": "stdout",
     "output_type": "stream",
     "text": [
      "First five elements in y_data_scaled are:\n",
      " [0.02049836 0.06072131 0.01377049 0.06937705 0.05704918]\n",
      "Type of y_data_scaled <class 'numpy.ndarray'>\n"
     ]
    }
   ],
   "source": [
    "# View scaled targets\n",
    "print(\"First five elements in y_data_scaled are:\\n\", y_data_scaled[:5])\n",
    "print(\"Type of y_data_scaled\", type(y_data_scaled))"
   ]
  },
  {
   "cell_type": "markdown",
   "metadata": {},
   "source": [
    "<a id='data_visualization'></a>\n",
    "### 2.4 - Data Visualization\n",
    "\n",
    "Change the `category` input to determine what is graphed on the x-axis.\n",
    "\n",
    "Change the `marker_size` input to determine the size of markers on the graph."
   ]
  },
  {
   "cell_type": "code",
   "execution_count": 26,
   "metadata": {},
   "outputs": [
    {
     "data": {
      "text/plain": [
       "<function matplotlib.pyplot.show(close=None, block=None)>"
      ]
     },
     "execution_count": 26,
     "metadata": {},
     "output_type": "execute_result"
    },
    {
     "data": {
      "image/png": "[encoded data removed]",
      "text/plain": [
       "<Figure size 640x480 with 1 Axes>"
      ]
     },
     "metadata": {},
     "output_type": "display_data"
    }
   ],
   "source": [
    "# ===== User Settings =====\n",
    "category = 1\n",
    "\n",
    "marker_size = 10\n",
    "\n",
    "# ===== Graph Normal =====\n",
    "plt.scatter(x_data[:, category], y_data, marker='x', c='b', s=marker_size),\n",
    "plt.title(categories[category] + \" vs. Housing Price\")\n",
    "plt.ylabel(\"Housing Price\")\n",
    "plt.xlabel(categories[category])\n",
    "plt.show"
   ]
  },
  {
   "cell_type": "markdown",
   "metadata": {},
   "source": [
    "<a id='feature_mapping'></a>\n",
    "### 2.5 - Feature Mapping\n",
    "\n",
    "We may not have to perform feature mapping."
   ]
  },
  {
   "cell_type": "markdown",
   "metadata": {},
   "source": [
    "<a id='linear_regression'></a>\n",
    "## 3 - Linear Regression"
   ]
  },
  {
   "cell_type": "markdown",
   "metadata": {},
   "source": [
    "<a id='cost_function'></a>\n",
    "### 3.1 - Cost Function"
   ]
  },
  {
   "cell_type": "code",
   "execution_count": 27,
   "metadata": {},
   "outputs": [],
   "source": [
    "def compute_cost(x, y, w, b, optional=None):\n",
    "    '''\n",
    "    Computes the cost function over the entire dataset.\n",
    "    \n",
    "    Args:\n",
    "        x (ndarray Shape (m,n)) : An array containing the featuries of the dataset.\n",
    "        y (ndarray Shape (m,1)) : An array containing the targets of the dataset. \n",
    "        w (ndarray Shape (n,1)) : An array containing the parameters of the model.\n",
    "        b (scalar)              : The bias term.\n",
    "    Returns:\n",
    "        cost (scalar) : The total cost.\n",
    "    '''\n",
    "    \n",
    "    m = x.shape[0]\n",
    "    predictions = np.dot(x, w) + b\n",
    "    \n",
    "    # Compute the mean squared error loss\n",
    "    cost = np.sum((predictions - y) ** 2) / (2 * m)\n",
    "\n",
    "    return cost"
   ]
  },
  {
   "cell_type": "code",
   "execution_count": 28,
   "metadata": {},
   "outputs": [],
   "source": [
    "def compute_cost_reg(x, y, w, b, lambda_const):\n",
    "    '''\n",
    "    Computes the cost function over the entire dataset while accounting for regularization.\n",
    "    \n",
    "    Args:\n",
    "        x (ndarray Shape (m,n))      : An array containing the featuries of the dataset.\n",
    "        y (ndarray Shape (m,1))      : An array containing the targets of the dataset. \n",
    "        w (ndarray Shape (n,1))      : An array containing the parameters of the model.\n",
    "        b (scalar)                   : The bias term.\n",
    "        lambda_const (scalar, float) : Regularization constant\n",
    "    Returns:\n",
    "        cost (scalar) : The total cost.\n",
    "    '''\n",
    "    \n",
    "    m, n = x.shape\n",
    "    \n",
    "    orig_cost = compute_cost(x, y, w, b, 0)\n",
    "    reg_cost = 0\n",
    "    \n",
    "    for i in range(n):\n",
    "        reg_cost += w[i]**2\n",
    "    \n",
    "    reg_cost *= (lambda_const / (2 * m))\n",
    "    \n",
    "    cost = orig_cost + reg_cost\n",
    "    \n",
    "    return cost"
   ]
  },
  {
   "cell_type": "markdown",
   "metadata": {},
   "source": [
    "<a id='gradient_function'></a>\n",
    "### 3.2 - Gradient Function"
   ]
  },
  {
   "cell_type": "code",
   "execution_count": 29,
   "metadata": {},
   "outputs": [],
   "source": [
    "def compute_gradient(x, y, w, b, optional=None):\n",
    "    '''\n",
    "    Compute the gradients of the loss function with respect to the parameters w and b.\n",
    "    \n",
    "    Args:\n",
    "        x (ndarray Shape (m,n)) : An array containing the featuries of the dataset.\n",
    "        y (ndarray Shape (m,1)) : An array containing the targets of the dataset. \n",
    "        w (ndarray Shape (n,1)) : An array containing the parameters of the model.\n",
    "        b (scalar)              : The bias term.\n",
    "    Returns:\n",
    "        d_dw (ndarray Shape (n,1)) : An array containing the gradients of the loss function with respect to the parameters w.\n",
    "        d_db (scalar)              : The gradient of the loss function with respect to the bias term.\n",
    "    '''\n",
    "\n",
    "    m = x.shape[0]\n",
    "    predictions = np.dot(x, w) + b\n",
    "    \n",
    "    dj_dw = np.dot(x.T, predictions - y) / m\n",
    "    dj_db = np.sum(predictions - y) / m\n",
    "    \n",
    "    return dj_dw, dj_db"
   ]
  },
  {
   "cell_type": "code",
   "execution_count": 30,
   "metadata": {},
   "outputs": [],
   "source": [
    "def compute_gradient_reg(x, y, w, b, lambda_const):\n",
    "    '''\n",
    "    Compute the gradients of the loss function with respect to the parameters w and b.\n",
    "    \n",
    "    Args:\n",
    "        x (ndarray Shape (m,n))      : An array containing the featuries of the dataset.\n",
    "        y (ndarray Shape (m,1))      : An array containing the targets of the dataset. \n",
    "        w (ndarray Shape (n,1))      : An array containing the parameters of the model.\n",
    "        b (scalar)                   : The bias term.\n",
    "        lambda_const (scalar, float) : Regularization constant\n",
    "    Returns:\n",
    "        d_dw (ndarray Shape (n,1)) : An array containing the gradients of the loss function with respect to the parameters w.\n",
    "        d_db (scalar)              : The gradient of the loss function with respect to the bias term.\n",
    "    '''\n",
    "\n",
    "    m, n  = x.shape\n",
    "        \n",
    "    dj_dw, dj_db = compute_gradient(x, y, w, b, 0)\n",
    "        \n",
    "    for i in range(n):\n",
    "        dj_dw_reg = (lambda_const / m) * w[i]\n",
    "        dj_dw[i] += dj_dw_reg\n",
    "    \n",
    "    return dj_dw, dj_db"
   ]
  },
  {
   "cell_type": "markdown",
   "metadata": {},
   "source": [
    "<a id='gradient_descent'></a>\n",
    "### 3.3 - Gradient Descent"
   ]
  },
  {
   "cell_type": "code",
   "execution_count": 31,
   "metadata": {},
   "outputs": [],
   "source": [
    "def gradient_descent(x, y, w_i, b_i, cost_function, gradient_function, alpha, iterations, lambda_const, tolerance):\n",
    "    '''\n",
    "    Performs batch gradient descent by simultaneously updating w and b in order to reduce cost.\n",
    "    \n",
    "    Args:\n",
    "        x (ndarray Shape (m,n))      : An array containing the featuries of the dataset.\n",
    "        y (ndarray Shape (m,1))      : An array containing the targets of the dataset. \n",
    "        w_i (ndarray Shape (n,1))    : An array containing the initial parameters of the model.\n",
    "        b_i (scalar)                 : The initial bias term.\n",
    "        cost_function                : Function to compute cost\n",
    "        gradient_function            : Function to compute gradient\n",
    "        alpha (float)                : Learning Rate\n",
    "        iterations (int)             : The number of times to run this function\n",
    "        lambda_const (scalar, float) : Regularization constant\n",
    "    Returns:\n",
    "        w_f (ndarray Shape (n,1)) : An array containing the updated parameters of the model.\n",
    "        b_f (scalar)              : The updated bias term.\n",
    "    '''\n",
    "    \n",
    "    cost_history = []\n",
    "    prev_cost = float('inf')\n",
    "\n",
    "    for i in range(iterations):\n",
    "        dj_dw, dj_db = gradient_function(x, y, w_i, b_i, lambda_const)\n",
    "        \n",
    "        # Simultaneous update of weights and bias\n",
    "        w_i -= alpha * dj_dw\n",
    "        b_i -= alpha * dj_db\n",
    "        \n",
    "        cost = cost_function(x, y, w_i, b_i, lambda_const)\n",
    "        cost_history.append(cost)\n",
    "        \n",
    "        if abs(cost - prev_cost) < tolerance:\n",
    "            print(f\"Convergence reached at iteration {i}. Cost {float(cost_history[-1]):8.2f}\")\n",
    "            break\n",
    "\n",
    "        prev_cost = cost\n",
    "        \n",
    "        if i % (iterations // 10) == 0 or i == (iterations-1):\n",
    "            print(f\"Iteration {i:4}: Cost {float(cost_history[-1]):8.2f}\")\n",
    "        \n",
    "    return w_i, b_i"
   ]
  },
  {
   "cell_type": "markdown",
   "metadata": {},
   "source": [
    "<a id='batch_gradient_descent'></a>\n",
    "### 3.4 - Batch Gradient Descent"
   ]
  },
  {
   "cell_type": "code",
   "execution_count": 32,
   "metadata": {},
   "outputs": [
    {
     "name": "stdout",
     "output_type": "stream",
     "text": [
      "Iteration    0: Cost     0.00\n",
      "Convergence reached at iteration 196. Cost     0.00\n"
     ]
    }
   ],
   "source": [
    "# ===== Initial Parameters =====\n",
    "np.random.seed(1)\n",
    "m, n = x_data_scaled.shape\n",
    "w_i = 0.001 * (np.random.rand(x_data_scaled.shape[1]) - 0.5 )\n",
    "b_i = 0\n",
    "\n",
    "# ===== User Settings =====\n",
    "iterations = 10000\n",
    "alpha = 0.1\n",
    "lambda_const = 0.01\n",
    "tolerance = 1e-6\n",
    "\n",
    "w, b = gradient_descent(x_data_scaled, y_data_scaled, w_i, b_i, compute_cost_reg, compute_gradient_reg, \n",
    "                        alpha, iterations, lambda_const, tolerance)\n"
   ]
  },
  {
   "cell_type": "markdown",
   "metadata": {},
   "source": [
    "<a id='prediction_accuracy'></a>\n",
    "### 3.5 - Prediction Accuracy"
   ]
  },
  {
   "cell_type": "code",
   "execution_count": 33,
   "metadata": {},
   "outputs": [],
   "source": [
    "def predict(x, w, b): \n",
    "    \"\"\"\n",
    "    Predicts the target prices.\n",
    "    \n",
    "    Args:\n",
    "        x (ndarray Shape (m,n)) : An array containing the featuries of the dataset.\n",
    "        w (ndarray Shape (n,1)) : An array containing the parameters of the model.\n",
    "        b (scalar)              : The bias term.\n",
    "    Returns:\n",
    "        p (ndarray (m,1)) : The predictions for x.\n",
    "    \"\"\"\n",
    "    \n",
    "    predictions = np.dot(x, w) + b\n",
    "    \n",
    "    p = predictions\n",
    "        \n",
    "    return p"
   ]
  },
  {
   "cell_type": "code",
   "execution_count": 34,
   "metadata": {},
   "outputs": [
    {
     "name": "stdout",
     "output_type": "stream",
     "text": [
      "First five elements in p are:\n",
      " [0.03305883 0.08365084 0.05834155 0.04912309 0.05263914]\n",
      "First five elements in y_data_scaled are:\n",
      " [0.02049836 0.06072131 0.01377049 0.06937705 0.05704918]\n"
     ]
    }
   ],
   "source": [
    "p = predict(x_data_scaled, w, b)\n",
    "print(\"First five elements in p are:\\n\", p[:5])\n",
    "print(\"First five elements in y_data_scaled are:\\n\", y_data_scaled[:5])"
   ]
  },
  {
   "cell_type": "code",
   "execution_count": 35,
   "metadata": {},
   "outputs": [
    {
     "name": "stdout",
     "output_type": "stream",
     "text": [
      "Mean Absolute Error (MAE): 0.019572655969052305\n",
      "Mean Squared Error (MSE): 0.0011270559298614063\n",
      "Root Mean Squared Error (RMSE): 0.033571653665874224\n"
     ]
    }
   ],
   "source": [
    "from sklearn.metrics import mean_absolute_error, mean_squared_error\n",
    "\n",
    "# Calculate Mean Absolute Error (MAE)\n",
    "mae = mean_absolute_error(y_data_scaled, p)\n",
    "\n",
    "# Calculate Mean Squared Error (MSE)\n",
    "mse = mean_squared_error(y_data_scaled, p)\n",
    "\n",
    "# Calculate Root Mean Squared Error (RMSE)\n",
    "rmse = np.sqrt(mse)\n",
    "\n",
    "print('Mean Absolute Error (MAE):', mae)\n",
    "print('Mean Squared Error (MSE):', mse)\n",
    "print('Root Mean Squared Error (RMSE):', rmse)"
   ]
  }
 ],
 "metadata": {
  "kernelspec": {
   "display_name": "base",
   "language": "python",
   "name": "python3"
  },
  "language_info": {
   "codemirror_mode": {
    "name": "ipython",
    "version": 3
   },
   "file_extension": ".py",
   "mimetype": "text/x-python",
   "name": "python",
   "nbconvert_exporter": "python",
   "pygments_lexer": "ipython3",
   "version": "3.11.7"
  }
 },
 "nbformat": 4,
 "nbformat_minor": 2
}
