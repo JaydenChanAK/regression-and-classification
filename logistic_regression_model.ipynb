{
 "cells": [
  {
   "cell_type": "markdown",
   "metadata": {},
   "source": [
    "# Project Overview\n",
    "Title: Logistic Regression Model: Credit Card Fraud\n",
    "\n",
    "Author: Jayden Chan\n",
    "\n",
    "Description: This notebook will seek to implement a logistic regression model on a dataset of credit card fraud. The dataset is comprised of several features including: distance from home, distance from last transaction, ratio to median purchase price, etc. The goal of this model will be to predict whether a credit card transaction is fraudulent or not.\n",
    "\n",
    "Credits: The dataset used in this notebook has been sourced from [Kaggle](https://www.kaggle.com/datasets/dhanushnarayananr/credit-card-fraud). Some code has been sourced from [Coursera](https://www.coursera.org/learn/machine-learning) and edited to fit project requirements.\n",
    "\n",
    "# Outline\n",
    "- [ 1 - Packages ](#packages)\n",
    "- [ 2 - Data Preparation ](#data_preparation)\n",
    "    - [ 2.1 - Data Loading ](#data_loading)\n",
    "    - [ 2.2 - Data Analysis ](#data_analysis)\n",
    "    - [ 2.3 - Feature Normalization ](#feature_normalization)\n",
    "    - [ 2.4 - Data Visualization ](#data_visualization)\n",
    "    - [ 2.5 - Feature Mapping ](#feature_mapping)\n",
    "- [ 3 - Logistic Regression ](#linear_regression)\n",
    "    - [ 3.1 - Cost Function ](#cost_function)\n",
    "    - [ 3.2 - Gradient Function ](#gradient_function)\n",
    "    - [ 3.3 - Gradient Descent ](#gradient_descent)\n",
    "    - [ 3.4 - Batch Gradient Descent ](#batch_gradient_descent)\n",
    "    - [ 3.5 - Prediction Accuracy ](#prediction_accuracy)"
   ]
  },
  {
   "cell_type": "markdown",
   "metadata": {},
   "source": [
    "<a id='packages'></a>\n",
    "## 1 - Packages\n",
    "- [numpy](www.numpy.org)\n",
    "- [matplotlib](http://matplotlib.org)\n",
    "-  ``utility.py`` contains useful helper functions for the implementation of this notebook."
   ]
  },
  {
   "cell_type": "code",
   "execution_count": 1,
   "metadata": {},
   "outputs": [],
   "source": [
    "import numpy as np\n",
    "import matplotlib.pyplot as plt\n",
    "from utility import *\n",
    "import copy\n",
    "import math\n",
    "\n",
    "%matplotlib inline"
   ]
  },
  {
   "cell_type": "markdown",
   "metadata": {},
   "source": [
    "<a id='data_preparation'></a>\n",
    "## 2 - Data Preparation"
   ]
  },
  {
   "cell_type": "markdown",
   "metadata": {},
   "source": [
    "<a id='data_loading'></a>\n",
    "### 2.1 - Data Loading\n",
    "\n",
    "The `load_data()` function will load the data in the .csv file into 3 arrays.\n",
    "- `categories` contains the names of the features in the dataset.\n",
    "- `x_array` contains the features in a 2D numpy array.\n",
    "- `y_array` contains the labels in a 1D numpy array.\n",
    "    - `y_array` = 1 if the transaction was fraudulent\n",
    "    - `y_array` = 0 if the transaction was legitimate"
   ]
  },
  {
   "cell_type": "code",
   "execution_count": 2,
   "metadata": {},
   "outputs": [],
   "source": [
    "categories, x_array, y_array = load_data(\"card_transdata.csv\")"
   ]
  },
  {
   "cell_type": "markdown",
   "metadata": {},
   "source": [
    "<a id='data_analysis'></a>\n",
    "### 2.2 - Data Analysis"
   ]
  },
  {
   "cell_type": "code",
   "execution_count": 3,
   "metadata": {},
   "outputs": [
    {
     "name": "stdout",
     "output_type": "stream",
     "text": [
      "The categories are:\n",
      " ['distance_from_home' 'distance_from_last_transaction'\n",
      " 'ratio_to_median_purchase_price' 'repeat_retailer' 'used_chip'\n",
      " 'used_pin_number' 'online_order']\n"
     ]
    }
   ],
   "source": [
    "# View categories\n",
    "print(\"The categories are:\\n\", categories[:])"
   ]
  },
  {
   "cell_type": "code",
   "execution_count": 4,
   "metadata": {},
   "outputs": [
    {
     "name": "stdout",
     "output_type": "stream",
     "text": [
      "First five elements in x_array are:\n",
      " [[57.87785658  0.31114001  1.94593998  1.          1.          0.\n",
      "   0.        ]\n",
      " [10.8299427   0.1755915   1.29421881  1.          0.          0.\n",
      "   0.        ]\n",
      " [ 5.09107949  0.80515259  0.42771456  1.          0.          0.\n",
      "   1.        ]\n",
      " [ 2.24756433  5.60004355  0.36266258  1.          1.          0.\n",
      "   1.        ]\n",
      " [44.190936    0.56648627  2.2227673   1.          1.          0.\n",
      "   1.        ]]\n",
      "Type of x_array <class 'numpy.ndarray'>\n"
     ]
    }
   ],
   "source": [
    "# View features\n",
    "print(\"First five elements in x_array are:\\n\", x_array[:5])\n",
    "print(\"Type of x_array\", type(x_array))"
   ]
  },
  {
   "cell_type": "code",
   "execution_count": 5,
   "metadata": {},
   "outputs": [
    {
     "name": "stdout",
     "output_type": "stream",
     "text": [
      "First five elements in y_array are:\n",
      " [0. 0. 0. 0. 0.]\n",
      "Type of y_array <class 'numpy.ndarray'>\n"
     ]
    }
   ],
   "source": [
    "# View labels\n",
    "print(\"First five elements in y_array are:\\n\", y_array[:5])\n",
    "print(\"Type of y_array\", type(y_array))"
   ]
  },
  {
   "cell_type": "code",
   "execution_count": 6,
   "metadata": {},
   "outputs": [
    {
     "name": "stdout",
     "output_type": "stream",
     "text": [
      "The shape of x_array is: (1000000, 7)\n",
      "The shape of y_array is: (1000000,)\n",
      "We have m = 1000000 training examples\n"
     ]
    }
   ],
   "source": [
    "# View sizes\n",
    "print ('The shape of x_array is: ' + str(x_array.shape))\n",
    "print ('The shape of y_array is: ' + str(y_array.shape))\n",
    "print ('We have m = %d training examples' % (len(y_array)))"
   ]
  },
  {
   "cell_type": "markdown",
   "metadata": {},
   "source": [
    "<a id='feature_normalization'></a>\n",
    "### 2.3 - Feature Normalization\n",
    "\n",
    "Because some of the features have large differences in scale, we will be performing feature scaling to improve data usability."
   ]
  },
  {
   "cell_type": "code",
   "execution_count": 7,
   "metadata": {},
   "outputs": [],
   "source": [
    "x_array = feature_scaling(x_array)"
   ]
  },
  {
   "cell_type": "code",
   "execution_count": 8,
   "metadata": {},
   "outputs": [
    {
     "name": "stdout",
     "output_type": "stream",
     "text": [
      "First five elements in x_array are:\n",
      " [[5.44291477e-03 2.62441132e-05 7.25000486e-03 1.00000000e+00\n",
      "  1.00000000e+00 0.00000000e+00 0.00000000e+00]\n",
      " [1.01809034e-03 1.48064867e-05 4.81638009e-03 1.00000000e+00\n",
      "  0.00000000e+00 0.00000000e+00 0.00000000e+00]\n",
      " [4.78354145e-04 6.79290539e-05 1.58072302e-03 1.00000000e+00\n",
      "  0.00000000e+00 0.00000000e+00 1.00000000e+00]\n",
      " [2.10923470e-04 4.72523493e-04 1.33780914e-03 1.00000000e+00\n",
      "  1.00000000e+00 0.00000000e+00 1.00000000e+00]\n",
      " [4.15566916e-03 4.77903126e-05 8.28371967e-03 1.00000000e+00\n",
      "  1.00000000e+00 0.00000000e+00 1.00000000e+00]]\n",
      "Type of x_array <class 'numpy.ndarray'>\n"
     ]
    }
   ],
   "source": [
    "# View scaled features\n",
    "print(\"First five elements in x_array are:\\n\", x_array[:5])\n",
    "print(\"Type of x_array\", type(x_array))"
   ]
  },
  {
   "cell_type": "markdown",
   "metadata": {},
   "source": [
    "<a id='data_visualization'></a>\n",
    "### 2.4 - Data Visualization\n",
    "\n",
    "Change the `category1` and `category2` inputs to determine what is graphed on the x-axis and y-axis.\n",
    "\n",
    "Change the `x_limiter` and `y_limiter` inputs to determine how the x-axis and y-axis are scaled.\n",
    "\n",
    "Change the `marker_size` input to determine the size of markers on the graph."
   ]
  },
  {
   "cell_type": "code",
   "execution_count": 9,
   "metadata": {},
   "outputs": [
    {
     "data": {
      "image/png": "[encoded data removed]",
      "text/plain": [
       "<Figure size 640x480 with 1 Axes>"
      ]
     },
     "metadata": {},
     "output_type": "display_data"
    }
   ],
   "source": [
    "# ===== User Settings =====\n",
    "category1 = 0\n",
    "category2 = 2\n",
    "\n",
    "x_limiter = 0.25\n",
    "y_limiter = 0.25\n",
    "\n",
    "marker_size = 3\n",
    "\n",
    "# ===== Graph Code =====\n",
    "logistic_graph(x_array, y_array, category1, category2, marker_size, pos_label=\"Fraudulent\", neg_label=\"Legitimate\")\n",
    "\n",
    "plt.ylabel(categories[category1])\n",
    "plt.xlabel(categories[category2])\n",
    "plt.title(\"Scatter plot of training data\")\n",
    "plt.legend(loc=\"upper right\")\n",
    "\n",
    "plt.xlim(0, x_limiter)\n",
    "plt.ylim(0, y_limiter)\n",
    "\n",
    "plt.show()"
   ]
  },
  {
   "cell_type": "markdown",
   "metadata": {},
   "source": [
    "<a id='feature_mapping'></a>\n",
    "### 2.5 - Feature Mapping\n",
    "\n",
    "Because the datset is nonlinear, we will have to perform feature mapping."
   ]
  },
  {
   "cell_type": "code",
   "execution_count": 10,
   "metadata": {},
   "outputs": [
    {
     "name": "stdout",
     "output_type": "stream",
     "text": [
      "Original shape of data: (1000000, 7)\n",
      "Shape after feature mapping: (1000000, 28)\n"
     ]
    }
   ],
   "source": [
    "print(\"Original shape of data:\", x_array.shape)\n",
    "\n",
    "# View mapped features\n",
    "mapped_x = map_features(x_array)\n",
    "print(\"Shape after feature mapping:\", mapped_x.shape)"
   ]
  },
  {
   "cell_type": "code",
   "execution_count": 11,
   "metadata": {},
   "outputs": [
    {
     "name": "stdout",
     "output_type": "stream",
     "text": [
      "x_array[0]: [5.44291477e-03 2.62441132e-05 7.25000486e-03 1.00000000e+00\n",
      " 1.00000000e+00 0.00000000e+00 0.00000000e+00]\n",
      "mapped x_array[0]: [2.60009492e-14 3.26731805e-28 3.26731805e-28 1.45221121e-13\n",
      " 5.25682344e-16 1.45221121e-13 1.00000000e+00 2.62441132e-05\n",
      " 5.25625705e-05 1.00000000e+00 1.00000000e+00 2.62441132e-05\n",
      " 5.25625705e-05 1.00000000e+00 1.00000000e+00 0.00000000e+00\n",
      " 0.00000000e+00 0.00000000e+00 0.00000000e+00 0.00000000e+00\n",
      " 0.00000000e+00 0.00000000e+00 0.00000000e+00 0.00000000e+00\n",
      " 0.00000000e+00 0.00000000e+00 0.00000000e+00 0.00000000e+00]\n"
     ]
    }
   ],
   "source": [
    "# Compare features\n",
    "print(\"x_array[0]:\", x_array[0])\n",
    "print(\"mapped x_array[0]:\", mapped_x[0])"
   ]
  },
  {
   "cell_type": "markdown",
   "metadata": {},
   "source": [
    "<a id='logistic_regression'></a>\n",
    "## 3 - Logistic Regression"
   ]
  },
  {
   "cell_type": "markdown",
   "metadata": {},
   "source": [
    "<a id='cost_function'></a>\n",
    "### 3.1 - Cost Function"
   ]
  },
  {
   "cell_type": "code",
   "execution_count": 12,
   "metadata": {},
   "outputs": [],
   "source": [
    "def compute_cost(x, y, w, b, optional=None):\n",
    "    '''\n",
    "    Computes the cost function over the entire dataset.\n",
    "    \n",
    "    Args:\n",
    "        x (ndarray Shape (m,n)) : An array containing the features of the dataset.\n",
    "        y (ndarray Shape (m,))  : An array containing the labels of the dataset. \n",
    "        w (ndarray Shape (n,))  : An array containing the parameters of the model.\n",
    "        b (scalar)              : The bias term.\n",
    "    Returns:\n",
    "        cost (scalar) : The total cost.\n",
    "    '''\n",
    "    \n",
    "    m = x.shape[0]\n",
    "    z_wb = np.dot(x, w) + b\n",
    "    \n",
    "    f_wb = sigmoid(z_wb)\n",
    "    \n",
    "    epsilon = 1e-10\n",
    "    f_wb = np.clip(f_wb, epsilon, 1 - epsilon)\n",
    "    \n",
    "    loss = -np.dot(y.T, np.log(f_wb)) - np.dot((1 - y).T, np.log(1 - f_wb))\n",
    "    \n",
    "    cost = (1/m)*loss\n",
    "    \n",
    "    return cost"
   ]
  },
  {
   "cell_type": "code",
   "execution_count": 13,
   "metadata": {},
   "outputs": [],
   "source": [
    "def compute_cost_reg(x, y, w, b, lambda_const):\n",
    "    '''\n",
    "    Computes the cost function over the entire dataset while accounting for regularization.\n",
    "    \n",
    "    Args:\n",
    "        x (ndarray Shape (m,n))      : An array containing the features of the dataset.\n",
    "        y (ndarray Shape (m,))       : An array containing the labels of the dataset. \n",
    "        w (ndarray Shape (n,))       : An array containing the parameters of the model.\n",
    "        b (scalar)                   : The bias term.\n",
    "        lambda_const (scalar, float) : Regularization constant\n",
    "    Returns:\n",
    "        cost (scalar) : The total cost.\n",
    "    '''\n",
    "    \n",
    "    m, n = x.shape\n",
    "    \n",
    "    orig_cost = compute_cost(x, y, w, b, 0)\n",
    "    reg_cost = 0\n",
    "    \n",
    "    for i in range(n):\n",
    "        reg_cost += w[i]**2\n",
    "    \n",
    "    reg_cost *= (lambda_const / (2 * m))\n",
    "    \n",
    "    cost = orig_cost + reg_cost\n",
    "    \n",
    "    return cost"
   ]
  },
  {
   "cell_type": "markdown",
   "metadata": {},
   "source": [
    "<a id='gradient_function'></a>\n",
    "### 3.2 - Gradient Function"
   ]
  },
  {
   "cell_type": "code",
   "execution_count": 14,
   "metadata": {},
   "outputs": [],
   "source": [
    "def compute_gradient(x, y, w, b, optional=None):\n",
    "    '''\n",
    "    Compute the gradients of the loss function with respect to the parameters w and b.\n",
    "    \n",
    "    Args:\n",
    "        x (ndarray Shape (m,n)) : An array containing the features of the dataset.\n",
    "        y (ndarray Shape (m,))  : An array containing the labels of the dataset. \n",
    "        w (ndarray Shape (n,))  : An array containing the parameters of the model.\n",
    "        b (scalar)              : The bias term.\n",
    "    Returns:\n",
    "        d_dw (ndarray Shape (n,)) : An array containing the gradients of the loss function with respect to the parameters w.\n",
    "        d_db (scalar)             : The gradient of the loss function with respect to the bias term.\n",
    "    '''\n",
    "\n",
    "    m =x.shape[0]\n",
    "    z_wb = np.dot(x, w) + b\n",
    "    \n",
    "    f_wb = sigmoid(z_wb)\n",
    "        \n",
    "    dj_dw = np.dot(x.T, f_wb - y) / m\n",
    "    dj_db = np.sum(f_wb - y) / m\n",
    "        \n",
    "    return dj_dw, dj_db"
   ]
  },
  {
   "cell_type": "code",
   "execution_count": 15,
   "metadata": {},
   "outputs": [],
   "source": [
    "def compute_gradient_reg(x, y, w, b, lambda_const):\n",
    "    '''\n",
    "    Compute the gradients of the loss function with respect to the parameters w and b.\n",
    "    \n",
    "    Args:\n",
    "        x (ndarray Shape (m,n))      : An array containing the features of the dataset.\n",
    "        y (ndarray Shape (m,))       : An array containing the labels of the dataset. \n",
    "        w (ndarray Shape (n,))       : An array containing the parameters of the model.\n",
    "        b (scalar)                   : The bias term.\n",
    "        lambda_const (scalar, float) : Regularization constant\n",
    "    Returns:\n",
    "        d_dw (ndarray Shape (n,)) : An array containing the gradients of the loss function with respect to the parameters w.\n",
    "        d_db (scalar)             : The gradient of the loss function with respect to the bias term.\n",
    "    '''\n",
    "\n",
    "    m, n  = x.shape\n",
    "        \n",
    "    dj_dw, dj_db = compute_gradient(x, y, w, b, 0)\n",
    "        \n",
    "    for i in range(n):\n",
    "        dj_dw_reg = (lambda_const / m) * w[i]\n",
    "        dj_dw[i] += dj_dw_reg\n",
    "    \n",
    "    return dj_dw, dj_db"
   ]
  },
  {
   "cell_type": "markdown",
   "metadata": {},
   "source": [
    "<a id='gradient_descent'></a>\n",
    "### 3.3 - Gradient Descent"
   ]
  },
  {
   "cell_type": "code",
   "execution_count": 16,
   "metadata": {},
   "outputs": [],
   "source": [
    "def gradient_descent(x, y, w_i, b_i, cost_function, gradient_function, alpha, iterations, lambda_const, tolerance):\n",
    "    '''\n",
    "    Performs batch gradient descent by simultaneously updating w and b in order to reduce cost.\n",
    "    \n",
    "    Args:\n",
    "        x (ndarray Shape (m,n))      : An array containing the features of the dataset.\n",
    "        y (ndarray Shape (m,))       : An array containing the labels of the dataset. \n",
    "        w_i (ndarray Shape (n,))     : An array containing the initial parameters of the model.\n",
    "        b_i (scalar)                 : The initial bias term.\n",
    "        cost_function                : Function to compute cost\n",
    "        gradient_function            : Function to compute gradient\n",
    "        alpha (float)                : Learning Rate\n",
    "        iterations (int)             : The number of times to run this function\n",
    "        lambda_const (scalar, float) : Regularization constant\n",
    "    Returns:\n",
    "        w_f (ndarray Shape (n,)) : An array containing the updated parameters of the model.\n",
    "        b_f (scalar)             : The updated bias term.\n",
    "    '''\n",
    "    \n",
    "    cost_history = []\n",
    "    prev_cost = float('inf')\n",
    "\n",
    "    for i in range(iterations):\n",
    "        dj_dw, dj_db = gradient_function(x, y, w_i, b_i, lambda_const)\n",
    "        \n",
    "        # Simultaneous update of weights and bias\n",
    "        w_i -= alpha * dj_dw\n",
    "        b_i -= alpha * dj_db\n",
    "        \n",
    "        cost = cost_function(x, y, w_i, b_i, lambda_const)\n",
    "        cost_history.append(cost)\n",
    "        \n",
    "        if abs(cost - prev_cost) < tolerance:\n",
    "            print(f\"Convergence reached at iteration {i}. Cost {float(cost_history[-1]):8.2f}\")\n",
    "            break\n",
    "\n",
    "        prev_cost = cost\n",
    "        \n",
    "        if i % (iterations // 10) == 0 or i == (iterations-1):\n",
    "            print(f\"Iteration {i:4}: Cost {float(cost_history[-1]):8.2f}\")\n",
    "        \n",
    "    return w_i, b_i"
   ]
  },
  {
   "cell_type": "markdown",
   "metadata": {},
   "source": [
    "<a id='batch_gradient_descent'></a>\n",
    "### 3.4 - Batch Gradient Descent"
   ]
  },
  {
   "cell_type": "code",
   "execution_count": 17,
   "metadata": {},
   "outputs": [
    {
     "name": "stdout",
     "output_type": "stream",
     "text": [
      "Iteration    0: Cost     0.63\n",
      "Iteration 1000: Cost     0.27\n",
      "Iteration 2000: Cost     0.26\n",
      "Convergence reached at iteration 2495. Cost     0.26\n"
     ]
    }
   ],
   "source": [
    "# ===== Initial Parameters =====\n",
    "np.random.seed(1)\n",
    "m, n = x_array.shape\n",
    "w_i = 0.001 * (np.random.rand(mapped_x.shape[1]) - 0.5 )\n",
    "b_i = 0\n",
    "\n",
    "# ===== User Settings =====\n",
    "iterations = 10000\n",
    "alpha = 0.1\n",
    "lambda_const = 0.01\n",
    "tolerance = 1e-6\n",
    "\n",
    "# =========================\n",
    "w, b = gradient_descent(mapped_x, y_array, w_i, b_i, compute_cost_reg, compute_gradient_reg, \n",
    "                        alpha, iterations, lambda_const, tolerance)"
   ]
  },
  {
   "cell_type": "markdown",
   "metadata": {},
   "source": [
    "<a id='prediction_accuracy'></a>\n",
    "### 3.5 - Prediction Accuracy"
   ]
  },
  {
   "cell_type": "code",
   "execution_count": 18,
   "metadata": {},
   "outputs": [],
   "source": [
    "def predict(x, w, b): \n",
    "    \"\"\"\n",
    "    Predict whether the label is 0 or 1.\n",
    "    \n",
    "    Args:\n",
    "        x (ndarray Shape (m,n)) : An array containing the features of the dataset.\n",
    "        w (ndarray Shape (n,))  : An array containing the parameters of the model.\n",
    "    Returns:\n",
    "        p (ndarray (m,)) : The predictions for x using a threshold at 0.5\n",
    "    \"\"\"\n",
    "    \n",
    "    z_wb = np.dot(x, w) + b\n",
    "    \n",
    "    probabilities = sigmoid(z_wb)\n",
    "    \n",
    "    p = (probabilities >= 0.5).astype(int)\n",
    "        \n",
    "    return p"
   ]
  },
  {
   "cell_type": "code",
   "execution_count": 19,
   "metadata": {},
   "outputs": [
    {
     "name": "stdout",
     "output_type": "stream",
     "text": [
      "Train Accuracy: 91.259700\n"
     ]
    }
   ],
   "source": [
    "p = predict(mapped_x, w, b)\n",
    "\n",
    "# Compare predictions to labels\n",
    "print('Train Accuracy: %f'%(np.mean(p == y_array) * 100))"
   ]
  }
 ],
 "metadata": {
  "kernelspec": {
   "display_name": "Python 3",
   "language": "python",
   "name": "python3"
  },
  "language_info": {
   "codemirror_mode": {
    "name": "ipython",
    "version": 3
   },
   "file_extension": ".py",
   "mimetype": "text/x-python",
   "name": "python",
   "nbconvert_exporter": "python",
   "pygments_lexer": "ipython3",
   "version": "3.11.7"
  }
 },
 "nbformat": 4,
 "nbformat_minor": 2
}
